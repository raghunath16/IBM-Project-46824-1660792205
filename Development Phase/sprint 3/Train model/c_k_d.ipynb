{
<<<<<<< HEAD
  "cells": [
    {
      "cell_type": "code",
      "execution_count": 3,
=======
  "nbformat": 4,
  "nbformat_minor": 0,
  "metadata": {
    "colab": {
      "provenance": []
    },
    "kernelspec": {
      "name": "python3",
      "display_name": "Python 3"
    },
    "language_info": {
      "name": "python"
    }
  },
  "cells": [
    {
      "cell_type": "code",
      "execution_count": null,
>>>>>>> dbc992110cd696325261ee01fb60178cb7672fa9
      "metadata": {
        "id": "dYyYGITQoj9a"
      },
      "outputs": [],
      "source": [
        "import numpy as np\n",
        "import pandas as pd\n",
        "import matplotlib.pyplot as plt\n",
        "import seaborn as sns\n",
        "from sklearn.model_selection import train_test_split\n",
        "from sklearn.preprocessing import LabelEncoder, MinMaxScaler\n",
        "import matplotlib.pyplot as plt"
      ]
    },
    {
      "cell_type": "code",
<<<<<<< HEAD
      "execution_count": 4,
=======
      "source": [
        "df = pd.read_csv(\"/content/chronickidneydisease.csv\")\n",
        "df.head(7)"
      ],
>>>>>>> dbc992110cd696325261ee01fb60178cb7672fa9
      "metadata": {
        "colab": {
          "base_uri": "https://localhost:8080/",
          "height": 298
        },
        "id": "ULR53OV8ot_Q",
        "outputId": "362d882b-5dce-4e42-9c0f-c5c1dcf5236b"
      },
<<<<<<< HEAD
      "outputs": [
        {
          "data": {
            "text/html": [
              "<div>\n",
=======
      "execution_count": null,
      "outputs": [
        {
          "output_type": "execute_result",
          "data": {
            "text/plain": [
              "   id   age    bp     sg   al   su     rbc        pc         pcc          ba  \\\n",
              "0   0  48.0  80.0  1.020  1.0  0.0     NaN    normal  notpresent  notpresent   \n",
              "1   1   7.0  50.0  1.020  4.0  0.0     NaN    normal  notpresent  notpresent   \n",
              "2   2  62.0  80.0  1.010  2.0  3.0  normal    normal  notpresent  notpresent   \n",
              "3   3  48.0  70.0  1.005  4.0  0.0  normal  abnormal     present  notpresent   \n",
              "4   4  51.0  80.0  1.010  2.0  0.0  normal    normal  notpresent  notpresent   \n",
              "5   5  60.0  90.0  1.015  3.0  0.0     NaN       NaN  notpresent  notpresent   \n",
              "6   6  68.0  70.0  1.010  0.0  0.0     NaN    normal  notpresent  notpresent   \n",
              "\n",
              "   ...  pcv    wc   rc  htn   dm  cad appet   pe  ane classification  \n",
              "0  ...   44  7800  5.2  yes  yes   no  good   no   no            ckd  \n",
              "1  ...   38  6000  NaN   no   no   no  good   no   no            ckd  \n",
              "2  ...   31  7500  NaN   no  yes   no  poor   no  yes            ckd  \n",
              "3  ...   32  6700  3.9  yes   no   no  poor  yes  yes            ckd  \n",
              "4  ...   35  7300  4.6   no   no   no  good   no   no            ckd  \n",
              "5  ...   39  7800  4.4  yes  yes   no  good  yes   no            ckd  \n",
              "6  ...   36   NaN  NaN   no   no   no  good   no   no            ckd  \n",
              "\n",
              "[7 rows x 26 columns]"
            ],
            "text/html": [
              "\n",
              "  <div id=\"df-d69f0f4a-49a6-4bfb-9f42-3ddb74521c39\">\n",
              "    <div class=\"colab-df-container\">\n",
              "      <div>\n",
>>>>>>> dbc992110cd696325261ee01fb60178cb7672fa9
              "<style scoped>\n",
              "    .dataframe tbody tr th:only-of-type {\n",
              "        vertical-align: middle;\n",
              "    }\n",
              "\n",
              "    .dataframe tbody tr th {\n",
              "        vertical-align: top;\n",
              "    }\n",
              "\n",
              "    .dataframe thead th {\n",
              "        text-align: right;\n",
              "    }\n",
              "</style>\n",
              "<table border=\"1\" class=\"dataframe\">\n",
              "  <thead>\n",
              "    <tr style=\"text-align: right;\">\n",
              "      <th></th>\n",
              "      <th>id</th>\n",
              "      <th>age</th>\n",
              "      <th>bp</th>\n",
              "      <th>sg</th>\n",
              "      <th>al</th>\n",
              "      <th>su</th>\n",
              "      <th>rbc</th>\n",
              "      <th>pc</th>\n",
              "      <th>pcc</th>\n",
              "      <th>ba</th>\n",
              "      <th>...</th>\n",
              "      <th>pcv</th>\n",
              "      <th>wc</th>\n",
              "      <th>rc</th>\n",
              "      <th>htn</th>\n",
              "      <th>dm</th>\n",
              "      <th>cad</th>\n",
              "      <th>appet</th>\n",
              "      <th>pe</th>\n",
              "      <th>ane</th>\n",
              "      <th>classification</th>\n",
              "    </tr>\n",
              "  </thead>\n",
              "  <tbody>\n",
              "    <tr>\n",
              "      <th>0</th>\n",
              "      <td>0</td>\n",
              "      <td>48.0</td>\n",
              "      <td>80.0</td>\n",
              "      <td>1.020</td>\n",
              "      <td>1.0</td>\n",
              "      <td>0.0</td>\n",
              "      <td>NaN</td>\n",
              "      <td>normal</td>\n",
              "      <td>notpresent</td>\n",
              "      <td>notpresent</td>\n",
              "      <td>...</td>\n",
              "      <td>44</td>\n",
              "      <td>7800</td>\n",
              "      <td>5.2</td>\n",
              "      <td>yes</td>\n",
              "      <td>yes</td>\n",
              "      <td>no</td>\n",
              "      <td>good</td>\n",
              "      <td>no</td>\n",
              "      <td>no</td>\n",
              "      <td>ckd</td>\n",
              "    </tr>\n",
              "    <tr>\n",
              "      <th>1</th>\n",
              "      <td>1</td>\n",
              "      <td>7.0</td>\n",
              "      <td>50.0</td>\n",
              "      <td>1.020</td>\n",
              "      <td>4.0</td>\n",
              "      <td>0.0</td>\n",
              "      <td>NaN</td>\n",
              "      <td>normal</td>\n",
              "      <td>notpresent</td>\n",
              "      <td>notpresent</td>\n",
              "      <td>...</td>\n",
              "      <td>38</td>\n",
              "      <td>6000</td>\n",
              "      <td>NaN</td>\n",
              "      <td>no</td>\n",
              "      <td>no</td>\n",
              "      <td>no</td>\n",
              "      <td>good</td>\n",
              "      <td>no</td>\n",
              "      <td>no</td>\n",
              "      <td>ckd</td>\n",
              "    </tr>\n",
              "    <tr>\n",
              "      <th>2</th>\n",
              "      <td>2</td>\n",
              "      <td>62.0</td>\n",
              "      <td>80.0</td>\n",
              "      <td>1.010</td>\n",
              "      <td>2.0</td>\n",
              "      <td>3.0</td>\n",
              "      <td>normal</td>\n",
              "      <td>normal</td>\n",
              "      <td>notpresent</td>\n",
              "      <td>notpresent</td>\n",
              "      <td>...</td>\n",
              "      <td>31</td>\n",
              "      <td>7500</td>\n",
              "      <td>NaN</td>\n",
              "      <td>no</td>\n",
              "      <td>yes</td>\n",
              "      <td>no</td>\n",
              "      <td>poor</td>\n",
              "      <td>no</td>\n",
              "      <td>yes</td>\n",
              "      <td>ckd</td>\n",
              "    </tr>\n",
              "    <tr>\n",
              "      <th>3</th>\n",
              "      <td>3</td>\n",
              "      <td>48.0</td>\n",
              "      <td>70.0</td>\n",
              "      <td>1.005</td>\n",
              "      <td>4.0</td>\n",
              "      <td>0.0</td>\n",
              "      <td>normal</td>\n",
              "      <td>abnormal</td>\n",
              "      <td>present</td>\n",
              "      <td>notpresent</td>\n",
              "      <td>...</td>\n",
              "      <td>32</td>\n",
              "      <td>6700</td>\n",
              "      <td>3.9</td>\n",
              "      <td>yes</td>\n",
              "      <td>no</td>\n",
              "      <td>no</td>\n",
              "      <td>poor</td>\n",
              "      <td>yes</td>\n",
              "      <td>yes</td>\n",
              "      <td>ckd</td>\n",
              "    </tr>\n",
              "    <tr>\n",
              "      <th>4</th>\n",
              "      <td>4</td>\n",
              "      <td>51.0</td>\n",
              "      <td>80.0</td>\n",
              "      <td>1.010</td>\n",
              "      <td>2.0</td>\n",
              "      <td>0.0</td>\n",
              "      <td>normal</td>\n",
              "      <td>normal</td>\n",
              "      <td>notpresent</td>\n",
              "      <td>notpresent</td>\n",
              "      <td>...</td>\n",
              "      <td>35</td>\n",
              "      <td>7300</td>\n",
              "      <td>4.6</td>\n",
              "      <td>no</td>\n",
              "      <td>no</td>\n",
              "      <td>no</td>\n",
              "      <td>good</td>\n",
              "      <td>no</td>\n",
              "      <td>no</td>\n",
              "      <td>ckd</td>\n",
              "    </tr>\n",
              "    <tr>\n",
              "      <th>5</th>\n",
              "      <td>5</td>\n",
              "      <td>60.0</td>\n",
              "      <td>90.0</td>\n",
              "      <td>1.015</td>\n",
              "      <td>3.0</td>\n",
              "      <td>0.0</td>\n",
              "      <td>NaN</td>\n",
              "      <td>NaN</td>\n",
              "      <td>notpresent</td>\n",
              "      <td>notpresent</td>\n",
              "      <td>...</td>\n",
              "      <td>39</td>\n",
              "      <td>7800</td>\n",
              "      <td>4.4</td>\n",
              "      <td>yes</td>\n",
              "      <td>yes</td>\n",
              "      <td>no</td>\n",
              "      <td>good</td>\n",
              "      <td>yes</td>\n",
              "      <td>no</td>\n",
              "      <td>ckd</td>\n",
              "    </tr>\n",
              "    <tr>\n",
              "      <th>6</th>\n",
              "      <td>6</td>\n",
              "      <td>68.0</td>\n",
              "      <td>70.0</td>\n",
              "      <td>1.010</td>\n",
              "      <td>0.0</td>\n",
              "      <td>0.0</td>\n",
              "      <td>NaN</td>\n",
              "      <td>normal</td>\n",
              "      <td>notpresent</td>\n",
              "      <td>notpresent</td>\n",
              "      <td>...</td>\n",
              "      <td>36</td>\n",
              "      <td>NaN</td>\n",
              "      <td>NaN</td>\n",
              "      <td>no</td>\n",
              "      <td>no</td>\n",
              "      <td>no</td>\n",
              "      <td>good</td>\n",
              "      <td>no</td>\n",
              "      <td>no</td>\n",
              "      <td>ckd</td>\n",
              "    </tr>\n",
              "  </tbody>\n",
              "</table>\n",
              "<p>7 rows × 26 columns</p>\n",
<<<<<<< HEAD
              "</div>"
            ],
            "text/plain": [
              "   id   age    bp     sg   al   su     rbc        pc         pcc          ba  \\\n",
              "0   0  48.0  80.0  1.020  1.0  0.0     NaN    normal  notpresent  notpresent   \n",
              "1   1   7.0  50.0  1.020  4.0  0.0     NaN    normal  notpresent  notpresent   \n",
              "2   2  62.0  80.0  1.010  2.0  3.0  normal    normal  notpresent  notpresent   \n",
              "3   3  48.0  70.0  1.005  4.0  0.0  normal  abnormal     present  notpresent   \n",
              "4   4  51.0  80.0  1.010  2.0  0.0  normal    normal  notpresent  notpresent   \n",
              "5   5  60.0  90.0  1.015  3.0  0.0     NaN       NaN  notpresent  notpresent   \n",
              "6   6  68.0  70.0  1.010  0.0  0.0     NaN    normal  notpresent  notpresent   \n",
              "\n",
              "   ...  pcv    wc   rc  htn   dm  cad appet   pe  ane classification  \n",
              "0  ...   44  7800  5.2  yes  yes   no  good   no   no            ckd  \n",
              "1  ...   38  6000  NaN   no   no   no  good   no   no            ckd  \n",
              "2  ...   31  7500  NaN   no  yes   no  poor   no  yes            ckd  \n",
              "3  ...   32  6700  3.9  yes   no   no  poor  yes  yes            ckd  \n",
              "4  ...   35  7300  4.6   no   no   no  good   no   no            ckd  \n",
              "5  ...   39  7800  4.4  yes  yes   no  good  yes   no            ckd  \n",
              "6  ...   36   NaN  NaN   no   no   no  good   no   no            ckd  \n",
              "\n",
              "[7 rows x 26 columns]"
            ]
          },
          "execution_count": 4,
          "metadata": {},
          "output_type": "execute_result"
        }
      ],
      "source": [
        "df = pd.read_csv(\"D:\\IBM-Project-46824-1660792205\\Development Phase\\sprint 1\\collecting dataset\\chronickidneydisease.csv\")\n",
        "df.head(7)"
=======
              "</div>\n",
              "      <button class=\"colab-df-convert\" onclick=\"convertToInteractive('df-d69f0f4a-49a6-4bfb-9f42-3ddb74521c39')\"\n",
              "              title=\"Convert this dataframe to an interactive table.\"\n",
              "              style=\"display:none;\">\n",
              "        \n",
              "  <svg xmlns=\"http://www.w3.org/2000/svg\" height=\"24px\"viewBox=\"0 0 24 24\"\n",
              "       width=\"24px\">\n",
              "    <path d=\"M0 0h24v24H0V0z\" fill=\"none\"/>\n",
              "    <path d=\"M18.56 5.44l.94 2.06.94-2.06 2.06-.94-2.06-.94-.94-2.06-.94 2.06-2.06.94zm-11 1L8.5 8.5l.94-2.06 2.06-.94-2.06-.94L8.5 2.5l-.94 2.06-2.06.94zm10 10l.94 2.06.94-2.06 2.06-.94-2.06-.94-.94-2.06-.94 2.06-2.06.94z\"/><path d=\"M17.41 7.96l-1.37-1.37c-.4-.4-.92-.59-1.43-.59-.52 0-1.04.2-1.43.59L10.3 9.45l-7.72 7.72c-.78.78-.78 2.05 0 2.83L4 21.41c.39.39.9.59 1.41.59.51 0 1.02-.2 1.41-.59l7.78-7.78 2.81-2.81c.8-.78.8-2.07 0-2.86zM5.41 20L4 18.59l7.72-7.72 1.47 1.35L5.41 20z\"/>\n",
              "  </svg>\n",
              "      </button>\n",
              "      \n",
              "  <style>\n",
              "    .colab-df-container {\n",
              "      display:flex;\n",
              "      flex-wrap:wrap;\n",
              "      gap: 12px;\n",
              "    }\n",
              "\n",
              "    .colab-df-convert {\n",
              "      background-color: #E8F0FE;\n",
              "      border: none;\n",
              "      border-radius: 50%;\n",
              "      cursor: pointer;\n",
              "      display: none;\n",
              "      fill: #1967D2;\n",
              "      height: 32px;\n",
              "      padding: 0 0 0 0;\n",
              "      width: 32px;\n",
              "    }\n",
              "\n",
              "    .colab-df-convert:hover {\n",
              "      background-color: #E2EBFA;\n",
              "      box-shadow: 0px 1px 2px rgba(60, 64, 67, 0.3), 0px 1px 3px 1px rgba(60, 64, 67, 0.15);\n",
              "      fill: #174EA6;\n",
              "    }\n",
              "\n",
              "    [theme=dark] .colab-df-convert {\n",
              "      background-color: #3B4455;\n",
              "      fill: #D2E3FC;\n",
              "    }\n",
              "\n",
              "    [theme=dark] .colab-df-convert:hover {\n",
              "      background-color: #434B5C;\n",
              "      box-shadow: 0px 1px 3px 1px rgba(0, 0, 0, 0.15);\n",
              "      filter: drop-shadow(0px 1px 2px rgba(0, 0, 0, 0.3));\n",
              "      fill: #FFFFFF;\n",
              "    }\n",
              "  </style>\n",
              "\n",
              "      <script>\n",
              "        const buttonEl =\n",
              "          document.querySelector('#df-d69f0f4a-49a6-4bfb-9f42-3ddb74521c39 button.colab-df-convert');\n",
              "        buttonEl.style.display =\n",
              "          google.colab.kernel.accessAllowed ? 'block' : 'none';\n",
              "\n",
              "        async function convertToInteractive(key) {\n",
              "          const element = document.querySelector('#df-d69f0f4a-49a6-4bfb-9f42-3ddb74521c39');\n",
              "          const dataTable =\n",
              "            await google.colab.kernel.invokeFunction('convertToInteractive',\n",
              "                                                     [key], {});\n",
              "          if (!dataTable) return;\n",
              "\n",
              "          const docLinkHtml = 'Like what you see? Visit the ' +\n",
              "            '<a target=\"_blank\" href=https://colab.research.google.com/notebooks/data_table.ipynb>data table notebook</a>'\n",
              "            + ' to learn more about interactive tables.';\n",
              "          element.innerHTML = '';\n",
              "          dataTable['output_type'] = 'display_data';\n",
              "          await google.colab.output.renderOutput(dataTable, element);\n",
              "          const docLink = document.createElement('div');\n",
              "          docLink.innerHTML = docLinkHtml;\n",
              "          element.appendChild(docLink);\n",
              "        }\n",
              "      </script>\n",
              "    </div>\n",
              "  </div>\n",
              "  "
            ]
          },
          "metadata": {},
          "execution_count": 3
        }
>>>>>>> dbc992110cd696325261ee01fb60178cb7672fa9
      ]
    },
    {
      "cell_type": "code",
<<<<<<< HEAD
      "execution_count": 5,
      "metadata": {
        "id": "ApwdfnTVowJ7"
      },
      "outputs": [],
=======
>>>>>>> dbc992110cd696325261ee01fb60178cb7672fa9
      "source": [
        "\n",
        "\n",
        "columns_to_retain = ['sg','al','sc','hemo','pcv','wbcc','rbcc','htn','classification']\n",
        "\n",
        "\n",
        "df = df.drop([col for col in df.columns if not col in columns_to_retain],axis =1)\n",
        "\n",
        "df = df.dropna(axis=0)"
<<<<<<< HEAD
      ]
    },
    {
      "cell_type": "code",
      "execution_count": 6,
      "metadata": {
        "colab": {
          "base_uri": "https://localhost:8080/"
        },
        "id": "npXzKwDuo7u1",
        "outputId": "d9410f30-39eb-470c-eebf-dfc887fb2bcb"
      },
      "outputs": [
        {
          "name": "stderr",
          "output_type": "stream",
          "text": [
            "C:\\Users\\HP\\AppData\\Local\\Temp\\ipykernel_4104\\513256261.py:4: DeprecationWarning: Converting `np.inexact` or `np.floating` to a dtype is deprecated. The current result is `float64` which is not strictly correct.\n",
            "  if df[column].dtype == np.number:\n"
          ]
        }
      ],
=======
      ],
      "metadata": {
        "id": "ApwdfnTVowJ7"
      },
      "execution_count": null,
      "outputs": []
    },
    {
      "cell_type": "code",
>>>>>>> dbc992110cd696325261ee01fb60178cb7672fa9
      "source": [
        "# Transform the non-numeric data in columns\n",
        "\n",
        "for column in df.columns:\n",
        "    if df[column].dtype == np.number:\n",
        "        continue\n",
        "    df[column] = LabelEncoder().fit_transform( df[column])"
<<<<<<< HEAD
=======
      ],
      "metadata": {
        "colab": {
          "base_uri": "https://localhost:8080/"
        },
        "id": "npXzKwDuo7u1",
        "outputId": "d9410f30-39eb-470c-eebf-dfc887fb2bcb"
      },
      "execution_count": null,
      "outputs": [
        {
          "output_type": "stream",
          "name": "stderr",
          "text": [
            "/usr/local/lib/python3.7/dist-packages/ipykernel_launcher.py:4: DeprecationWarning: Converting `np.inexact` or `np.floating` to a dtype is deprecated. The current result is `float64` which is not strictly correct.\n",
            "  after removing the cwd from sys.path.\n"
          ]
        }
>>>>>>> dbc992110cd696325261ee01fb60178cb7672fa9
      ]
    },
    {
      "cell_type": "code",
<<<<<<< HEAD
      "execution_count": 7,
=======
      "source": [
        "df.tail(8)\n"
      ],
>>>>>>> dbc992110cd696325261ee01fb60178cb7672fa9
      "metadata": {
        "colab": {
          "base_uri": "https://localhost:8080/",
          "height": 300
        },
        "id": "NU6EUzqUo-rn",
        "outputId": "0593d54d-8e7e-43ba-8b8a-1881e2f0e0af"
      },
<<<<<<< HEAD
      "outputs": [
        {
          "data": {
            "text/html": [
              "<div>\n",
=======
      "execution_count": null,
      "outputs": [
        {
          "output_type": "execute_result",
          "data": {
            "text/plain": [
              "        sg   al   sc  hemo  pcv  htn  classification\n",
              "392  1.020  0.0  1.2  14.8   30    0               1\n",
              "393  1.025  0.0  0.7  13.0   38    0               1\n",
              "394  1.020  0.0  0.8  14.1   29    0               1\n",
              "395  1.020  0.0  0.5  15.7   31    0               1\n",
              "396  1.025  0.0  1.2  16.5   38    0               1\n",
              "397  1.020  0.0  0.6  15.8   33    0               1\n",
              "398  1.025  0.0  1.0  14.2   35    0               1\n",
              "399  1.025  0.0  1.1  15.8   37    0               1"
            ],
            "text/html": [
              "\n",
              "  <div id=\"df-9f0a1031-393c-412f-9538-13cfb73775c2\">\n",
              "    <div class=\"colab-df-container\">\n",
              "      <div>\n",
>>>>>>> dbc992110cd696325261ee01fb60178cb7672fa9
              "<style scoped>\n",
              "    .dataframe tbody tr th:only-of-type {\n",
              "        vertical-align: middle;\n",
              "    }\n",
              "\n",
              "    .dataframe tbody tr th {\n",
              "        vertical-align: top;\n",
              "    }\n",
              "\n",
              "    .dataframe thead th {\n",
              "        text-align: right;\n",
              "    }\n",
              "</style>\n",
              "<table border=\"1\" class=\"dataframe\">\n",
              "  <thead>\n",
              "    <tr style=\"text-align: right;\">\n",
              "      <th></th>\n",
              "      <th>sg</th>\n",
              "      <th>al</th>\n",
              "      <th>sc</th>\n",
              "      <th>hemo</th>\n",
              "      <th>pcv</th>\n",
              "      <th>htn</th>\n",
              "      <th>classification</th>\n",
              "    </tr>\n",
              "  </thead>\n",
              "  <tbody>\n",
              "    <tr>\n",
              "      <th>392</th>\n",
              "      <td>1.020</td>\n",
              "      <td>0.0</td>\n",
              "      <td>1.2</td>\n",
              "      <td>14.8</td>\n",
              "      <td>30</td>\n",
              "      <td>0</td>\n",
              "      <td>1</td>\n",
              "    </tr>\n",
              "    <tr>\n",
              "      <th>393</th>\n",
              "      <td>1.025</td>\n",
              "      <td>0.0</td>\n",
              "      <td>0.7</td>\n",
              "      <td>13.0</td>\n",
              "      <td>38</td>\n",
              "      <td>0</td>\n",
              "      <td>1</td>\n",
              "    </tr>\n",
              "    <tr>\n",
              "      <th>394</th>\n",
              "      <td>1.020</td>\n",
              "      <td>0.0</td>\n",
              "      <td>0.8</td>\n",
              "      <td>14.1</td>\n",
              "      <td>29</td>\n",
              "      <td>0</td>\n",
              "      <td>1</td>\n",
              "    </tr>\n",
              "    <tr>\n",
              "      <th>395</th>\n",
              "      <td>1.020</td>\n",
              "      <td>0.0</td>\n",
              "      <td>0.5</td>\n",
              "      <td>15.7</td>\n",
              "      <td>31</td>\n",
              "      <td>0</td>\n",
              "      <td>1</td>\n",
              "    </tr>\n",
              "    <tr>\n",
              "      <th>396</th>\n",
              "      <td>1.025</td>\n",
              "      <td>0.0</td>\n",
              "      <td>1.2</td>\n",
              "      <td>16.5</td>\n",
              "      <td>38</td>\n",
              "      <td>0</td>\n",
              "      <td>1</td>\n",
              "    </tr>\n",
              "    <tr>\n",
              "      <th>397</th>\n",
              "      <td>1.020</td>\n",
              "      <td>0.0</td>\n",
              "      <td>0.6</td>\n",
              "      <td>15.8</td>\n",
              "      <td>33</td>\n",
              "      <td>0</td>\n",
              "      <td>1</td>\n",
              "    </tr>\n",
              "    <tr>\n",
              "      <th>398</th>\n",
              "      <td>1.025</td>\n",
              "      <td>0.0</td>\n",
              "      <td>1.0</td>\n",
              "      <td>14.2</td>\n",
              "      <td>35</td>\n",
              "      <td>0</td>\n",
              "      <td>1</td>\n",
              "    </tr>\n",
              "    <tr>\n",
              "      <th>399</th>\n",
              "      <td>1.025</td>\n",
              "      <td>0.0</td>\n",
              "      <td>1.1</td>\n",
              "      <td>15.8</td>\n",
              "      <td>37</td>\n",
              "      <td>0</td>\n",
              "      <td>1</td>\n",
              "    </tr>\n",
              "  </tbody>\n",
              "</table>\n",
<<<<<<< HEAD
              "</div>"
            ],
            "text/plain": [
              "        sg   al   sc  hemo  pcv  htn  classification\n",
              "392  1.020  0.0  1.2  14.8   30    0               1\n",
              "393  1.025  0.0  0.7  13.0   38    0               1\n",
              "394  1.020  0.0  0.8  14.1   29    0               1\n",
              "395  1.020  0.0  0.5  15.7   31    0               1\n",
              "396  1.025  0.0  1.2  16.5   38    0               1\n",
              "397  1.020  0.0  0.6  15.8   33    0               1\n",
              "398  1.025  0.0  1.0  14.2   35    0               1\n",
              "399  1.025  0.0  1.1  15.8   37    0               1"
            ]
          },
          "execution_count": 7,
          "metadata": {},
          "output_type": "execute_result"
        }
      ],
      "source": [
        "df.tail(8)\n"
=======
              "</div>\n",
              "      <button class=\"colab-df-convert\" onclick=\"convertToInteractive('df-9f0a1031-393c-412f-9538-13cfb73775c2')\"\n",
              "              title=\"Convert this dataframe to an interactive table.\"\n",
              "              style=\"display:none;\">\n",
              "        \n",
              "  <svg xmlns=\"http://www.w3.org/2000/svg\" height=\"24px\"viewBox=\"0 0 24 24\"\n",
              "       width=\"24px\">\n",
              "    <path d=\"M0 0h24v24H0V0z\" fill=\"none\"/>\n",
              "    <path d=\"M18.56 5.44l.94 2.06.94-2.06 2.06-.94-2.06-.94-.94-2.06-.94 2.06-2.06.94zm-11 1L8.5 8.5l.94-2.06 2.06-.94-2.06-.94L8.5 2.5l-.94 2.06-2.06.94zm10 10l.94 2.06.94-2.06 2.06-.94-2.06-.94-.94-2.06-.94 2.06-2.06.94z\"/><path d=\"M17.41 7.96l-1.37-1.37c-.4-.4-.92-.59-1.43-.59-.52 0-1.04.2-1.43.59L10.3 9.45l-7.72 7.72c-.78.78-.78 2.05 0 2.83L4 21.41c.39.39.9.59 1.41.59.51 0 1.02-.2 1.41-.59l7.78-7.78 2.81-2.81c.8-.78.8-2.07 0-2.86zM5.41 20L4 18.59l7.72-7.72 1.47 1.35L5.41 20z\"/>\n",
              "  </svg>\n",
              "      </button>\n",
              "      \n",
              "  <style>\n",
              "    .colab-df-container {\n",
              "      display:flex;\n",
              "      flex-wrap:wrap;\n",
              "      gap: 12px;\n",
              "    }\n",
              "\n",
              "    .colab-df-convert {\n",
              "      background-color: #E8F0FE;\n",
              "      border: none;\n",
              "      border-radius: 50%;\n",
              "      cursor: pointer;\n",
              "      display: none;\n",
              "      fill: #1967D2;\n",
              "      height: 32px;\n",
              "      padding: 0 0 0 0;\n",
              "      width: 32px;\n",
              "    }\n",
              "\n",
              "    .colab-df-convert:hover {\n",
              "      background-color: #E2EBFA;\n",
              "      box-shadow: 0px 1px 2px rgba(60, 64, 67, 0.3), 0px 1px 3px 1px rgba(60, 64, 67, 0.15);\n",
              "      fill: #174EA6;\n",
              "    }\n",
              "\n",
              "    [theme=dark] .colab-df-convert {\n",
              "      background-color: #3B4455;\n",
              "      fill: #D2E3FC;\n",
              "    }\n",
              "\n",
              "    [theme=dark] .colab-df-convert:hover {\n",
              "      background-color: #434B5C;\n",
              "      box-shadow: 0px 1px 3px 1px rgba(0, 0, 0, 0.15);\n",
              "      filter: drop-shadow(0px 1px 2px rgba(0, 0, 0, 0.3));\n",
              "      fill: #FFFFFF;\n",
              "    }\n",
              "  </style>\n",
              "\n",
              "      <script>\n",
              "        const buttonEl =\n",
              "          document.querySelector('#df-9f0a1031-393c-412f-9538-13cfb73775c2 button.colab-df-convert');\n",
              "        buttonEl.style.display =\n",
              "          google.colab.kernel.accessAllowed ? 'block' : 'none';\n",
              "\n",
              "        async function convertToInteractive(key) {\n",
              "          const element = document.querySelector('#df-9f0a1031-393c-412f-9538-13cfb73775c2');\n",
              "          const dataTable =\n",
              "            await google.colab.kernel.invokeFunction('convertToInteractive',\n",
              "                                                     [key], {});\n",
              "          if (!dataTable) return;\n",
              "\n",
              "          const docLinkHtml = 'Like what you see? Visit the ' +\n",
              "            '<a target=\"_blank\" href=https://colab.research.google.com/notebooks/data_table.ipynb>data table notebook</a>'\n",
              "            + ' to learn more about interactive tables.';\n",
              "          element.innerHTML = '';\n",
              "          dataTable['output_type'] = 'display_data';\n",
              "          await google.colab.output.renderOutput(dataTable, element);\n",
              "          const docLink = document.createElement('div');\n",
              "          docLink.innerHTML = docLinkHtml;\n",
              "          element.appendChild(docLink);\n",
              "        }\n",
              "      </script>\n",
              "    </div>\n",
              "  </div>\n",
              "  "
            ]
          },
          "metadata": {},
          "execution_count": 6
        }
>>>>>>> dbc992110cd696325261ee01fb60178cb7672fa9
      ]
    },
    {
      "cell_type": "code",
<<<<<<< HEAD
      "execution_count": 8,
      "metadata": {
        "id": "z9mri_KKpCNc"
      },
      "outputs": [],
=======
>>>>>>> dbc992110cd696325261ee01fb60178cb7672fa9
      "source": [
        "# Split the data into independent (x) dataset (the features) and dependent (Y) dataset (the target)\n",
        "\n",
        "X = df.drop(['classification'],axis=1)\n",
        "Y = df['classification']"
<<<<<<< HEAD
      ]
    },
    {
      "cell_type": "code",
      "execution_count": 9,
=======
      ],
      "metadata": {
        "id": "z9mri_KKpCNc"
      },
      "execution_count": null,
      "outputs": []
    },
    {
      "cell_type": "code",
      "source": [
        "X.columns\n"
      ],
>>>>>>> dbc992110cd696325261ee01fb60178cb7672fa9
      "metadata": {
        "colab": {
          "base_uri": "https://localhost:8080/"
        },
        "id": "v05WaxeupFLq",
        "outputId": "c0a94732-4f52-40cc-80bb-c076b5077e11"
      },
<<<<<<< HEAD
      "outputs": [
        {
=======
      "execution_count": null,
      "outputs": [
        {
          "output_type": "execute_result",
>>>>>>> dbc992110cd696325261ee01fb60178cb7672fa9
          "data": {
            "text/plain": [
              "Index(['sg', 'al', 'sc', 'hemo', 'pcv', 'htn'], dtype='object')"
            ]
          },
<<<<<<< HEAD
          "execution_count": 9,
          "metadata": {},
          "output_type": "execute_result"
        }
      ],
      "source": [
        "X.columns\n"
=======
          "metadata": {},
          "execution_count": 8
        }
>>>>>>> dbc992110cd696325261ee01fb60178cb7672fa9
      ]
    },
    {
      "cell_type": "code",
<<<<<<< HEAD
      "execution_count": 10,
=======
      "source": [
        "x_scaler = MinMaxScaler()\n",
        "x_scaler.fit(X)\n",
        "column_names = X.columns\n",
        "X[column_names] = x_scaler.transform(X)\n",
        "X[column_names]"
      ],
>>>>>>> dbc992110cd696325261ee01fb60178cb7672fa9
      "metadata": {
        "colab": {
          "base_uri": "https://localhost:8080/",
          "height": 424
        },
        "id": "0gwEICSypH-C",
        "outputId": "b88a0945-4473-4dac-bfe1-199fc22d326c"
      },
<<<<<<< HEAD
      "outputs": [
        {
          "data": {
            "text/html": [
              "<div>\n",
=======
      "execution_count": null,
      "outputs": [
        {
          "output_type": "execute_result",
          "data": {
            "text/plain": [
              "       sg   al        sc      hemo       pcv  htn\n",
              "0    0.75  0.2  0.033898  0.836735  0.717949  1.0\n",
              "1    0.75  0.8  0.016949  0.557823  0.564103  0.0\n",
              "2    0.25  0.4  0.059322  0.442177  0.384615  0.0\n",
              "3    0.00  0.8  0.144068  0.551020  0.410256  1.0\n",
              "4    0.25  0.4  0.042373  0.578231  0.487179  0.0\n",
              "..    ...  ...       ...       ...       ...  ...\n",
              "395  0.75  0.0  0.004237  0.857143  0.794872  0.0\n",
              "396  1.00  0.0  0.033898  0.911565  0.974359  0.0\n",
              "397  0.75  0.0  0.008475  0.863946  0.846154  0.0\n",
              "398  1.00  0.0  0.025424  0.755102  0.897436  0.0\n",
              "399  1.00  0.0  0.029661  0.863946  0.948718  0.0\n",
              "\n",
              "[287 rows x 6 columns]"
            ],
            "text/html": [
              "\n",
              "  <div id=\"df-f98b92ad-9fd7-459c-8ec3-f70fb3439b1a\">\n",
              "    <div class=\"colab-df-container\">\n",
              "      <div>\n",
>>>>>>> dbc992110cd696325261ee01fb60178cb7672fa9
              "<style scoped>\n",
              "    .dataframe tbody tr th:only-of-type {\n",
              "        vertical-align: middle;\n",
              "    }\n",
              "\n",
              "    .dataframe tbody tr th {\n",
              "        vertical-align: top;\n",
              "    }\n",
              "\n",
              "    .dataframe thead th {\n",
              "        text-align: right;\n",
              "    }\n",
              "</style>\n",
              "<table border=\"1\" class=\"dataframe\">\n",
              "  <thead>\n",
              "    <tr style=\"text-align: right;\">\n",
              "      <th></th>\n",
              "      <th>sg</th>\n",
              "      <th>al</th>\n",
              "      <th>sc</th>\n",
              "      <th>hemo</th>\n",
              "      <th>pcv</th>\n",
              "      <th>htn</th>\n",
              "    </tr>\n",
              "  </thead>\n",
              "  <tbody>\n",
              "    <tr>\n",
              "      <th>0</th>\n",
              "      <td>0.75</td>\n",
              "      <td>0.2</td>\n",
              "      <td>0.033898</td>\n",
              "      <td>0.836735</td>\n",
              "      <td>0.717949</td>\n",
              "      <td>1.0</td>\n",
              "    </tr>\n",
              "    <tr>\n",
              "      <th>1</th>\n",
              "      <td>0.75</td>\n",
              "      <td>0.8</td>\n",
              "      <td>0.016949</td>\n",
              "      <td>0.557823</td>\n",
              "      <td>0.564103</td>\n",
              "      <td>0.0</td>\n",
              "    </tr>\n",
              "    <tr>\n",
              "      <th>2</th>\n",
              "      <td>0.25</td>\n",
              "      <td>0.4</td>\n",
              "      <td>0.059322</td>\n",
              "      <td>0.442177</td>\n",
              "      <td>0.384615</td>\n",
              "      <td>0.0</td>\n",
              "    </tr>\n",
              "    <tr>\n",
              "      <th>3</th>\n",
              "      <td>0.00</td>\n",
              "      <td>0.8</td>\n",
              "      <td>0.144068</td>\n",
              "      <td>0.551020</td>\n",
              "      <td>0.410256</td>\n",
              "      <td>1.0</td>\n",
              "    </tr>\n",
              "    <tr>\n",
              "      <th>4</th>\n",
              "      <td>0.25</td>\n",
              "      <td>0.4</td>\n",
              "      <td>0.042373</td>\n",
              "      <td>0.578231</td>\n",
              "      <td>0.487179</td>\n",
              "      <td>0.0</td>\n",
              "    </tr>\n",
              "    <tr>\n",
              "      <th>...</th>\n",
              "      <td>...</td>\n",
              "      <td>...</td>\n",
              "      <td>...</td>\n",
              "      <td>...</td>\n",
              "      <td>...</td>\n",
              "      <td>...</td>\n",
              "    </tr>\n",
              "    <tr>\n",
              "      <th>395</th>\n",
              "      <td>0.75</td>\n",
              "      <td>0.0</td>\n",
              "      <td>0.004237</td>\n",
              "      <td>0.857143</td>\n",
              "      <td>0.794872</td>\n",
              "      <td>0.0</td>\n",
              "    </tr>\n",
              "    <tr>\n",
              "      <th>396</th>\n",
              "      <td>1.00</td>\n",
              "      <td>0.0</td>\n",
              "      <td>0.033898</td>\n",
              "      <td>0.911565</td>\n",
              "      <td>0.974359</td>\n",
              "      <td>0.0</td>\n",
              "    </tr>\n",
              "    <tr>\n",
              "      <th>397</th>\n",
              "      <td>0.75</td>\n",
              "      <td>0.0</td>\n",
              "      <td>0.008475</td>\n",
              "      <td>0.863946</td>\n",
              "      <td>0.846154</td>\n",
              "      <td>0.0</td>\n",
              "    </tr>\n",
              "    <tr>\n",
              "      <th>398</th>\n",
              "      <td>1.00</td>\n",
              "      <td>0.0</td>\n",
              "      <td>0.025424</td>\n",
              "      <td>0.755102</td>\n",
              "      <td>0.897436</td>\n",
              "      <td>0.0</td>\n",
              "    </tr>\n",
              "    <tr>\n",
              "      <th>399</th>\n",
              "      <td>1.00</td>\n",
              "      <td>0.0</td>\n",
              "      <td>0.029661</td>\n",
              "      <td>0.863946</td>\n",
              "      <td>0.948718</td>\n",
              "      <td>0.0</td>\n",
              "    </tr>\n",
              "  </tbody>\n",
              "</table>\n",
              "<p>287 rows × 6 columns</p>\n",
<<<<<<< HEAD
              "</div>"
            ],
            "text/plain": [
              "       sg   al        sc      hemo       pcv  htn\n",
              "0    0.75  0.2  0.033898  0.836735  0.717949  1.0\n",
              "1    0.75  0.8  0.016949  0.557823  0.564103  0.0\n",
              "2    0.25  0.4  0.059322  0.442177  0.384615  0.0\n",
              "3    0.00  0.8  0.144068  0.551020  0.410256  1.0\n",
              "4    0.25  0.4  0.042373  0.578231  0.487179  0.0\n",
              "..    ...  ...       ...       ...       ...  ...\n",
              "395  0.75  0.0  0.004237  0.857143  0.794872  0.0\n",
              "396  1.00  0.0  0.033898  0.911565  0.974359  0.0\n",
              "397  0.75  0.0  0.008475  0.863946  0.846154  0.0\n",
              "398  1.00  0.0  0.025424  0.755102  0.897436  0.0\n",
              "399  1.00  0.0  0.029661  0.863946  0.948718  0.0\n",
              "\n",
              "[287 rows x 6 columns]"
            ]
          },
          "execution_count": 10,
          "metadata": {},
          "output_type": "execute_result"
        }
      ],
      "source": [
        "x_scaler = MinMaxScaler()\n",
        "x_scaler.fit(X)\n",
        "column_names = X.columns\n",
        "X[column_names] = x_scaler.transform(X)\n",
        "X[column_names]"
=======
              "</div>\n",
              "      <button class=\"colab-df-convert\" onclick=\"convertToInteractive('df-f98b92ad-9fd7-459c-8ec3-f70fb3439b1a')\"\n",
              "              title=\"Convert this dataframe to an interactive table.\"\n",
              "              style=\"display:none;\">\n",
              "        \n",
              "  <svg xmlns=\"http://www.w3.org/2000/svg\" height=\"24px\"viewBox=\"0 0 24 24\"\n",
              "       width=\"24px\">\n",
              "    <path d=\"M0 0h24v24H0V0z\" fill=\"none\"/>\n",
              "    <path d=\"M18.56 5.44l.94 2.06.94-2.06 2.06-.94-2.06-.94-.94-2.06-.94 2.06-2.06.94zm-11 1L8.5 8.5l.94-2.06 2.06-.94-2.06-.94L8.5 2.5l-.94 2.06-2.06.94zm10 10l.94 2.06.94-2.06 2.06-.94-2.06-.94-.94-2.06-.94 2.06-2.06.94z\"/><path d=\"M17.41 7.96l-1.37-1.37c-.4-.4-.92-.59-1.43-.59-.52 0-1.04.2-1.43.59L10.3 9.45l-7.72 7.72c-.78.78-.78 2.05 0 2.83L4 21.41c.39.39.9.59 1.41.59.51 0 1.02-.2 1.41-.59l7.78-7.78 2.81-2.81c.8-.78.8-2.07 0-2.86zM5.41 20L4 18.59l7.72-7.72 1.47 1.35L5.41 20z\"/>\n",
              "  </svg>\n",
              "      </button>\n",
              "      \n",
              "  <style>\n",
              "    .colab-df-container {\n",
              "      display:flex;\n",
              "      flex-wrap:wrap;\n",
              "      gap: 12px;\n",
              "    }\n",
              "\n",
              "    .colab-df-convert {\n",
              "      background-color: #E8F0FE;\n",
              "      border: none;\n",
              "      border-radius: 50%;\n",
              "      cursor: pointer;\n",
              "      display: none;\n",
              "      fill: #1967D2;\n",
              "      height: 32px;\n",
              "      padding: 0 0 0 0;\n",
              "      width: 32px;\n",
              "    }\n",
              "\n",
              "    .colab-df-convert:hover {\n",
              "      background-color: #E2EBFA;\n",
              "      box-shadow: 0px 1px 2px rgba(60, 64, 67, 0.3), 0px 1px 3px 1px rgba(60, 64, 67, 0.15);\n",
              "      fill: #174EA6;\n",
              "    }\n",
              "\n",
              "    [theme=dark] .colab-df-convert {\n",
              "      background-color: #3B4455;\n",
              "      fill: #D2E3FC;\n",
              "    }\n",
              "\n",
              "    [theme=dark] .colab-df-convert:hover {\n",
              "      background-color: #434B5C;\n",
              "      box-shadow: 0px 1px 3px 1px rgba(0, 0, 0, 0.15);\n",
              "      filter: drop-shadow(0px 1px 2px rgba(0, 0, 0, 0.3));\n",
              "      fill: #FFFFFF;\n",
              "    }\n",
              "  </style>\n",
              "\n",
              "      <script>\n",
              "        const buttonEl =\n",
              "          document.querySelector('#df-f98b92ad-9fd7-459c-8ec3-f70fb3439b1a button.colab-df-convert');\n",
              "        buttonEl.style.display =\n",
              "          google.colab.kernel.accessAllowed ? 'block' : 'none';\n",
              "\n",
              "        async function convertToInteractive(key) {\n",
              "          const element = document.querySelector('#df-f98b92ad-9fd7-459c-8ec3-f70fb3439b1a');\n",
              "          const dataTable =\n",
              "            await google.colab.kernel.invokeFunction('convertToInteractive',\n",
              "                                                     [key], {});\n",
              "          if (!dataTable) return;\n",
              "\n",
              "          const docLinkHtml = 'Like what you see? Visit the ' +\n",
              "            '<a target=\"_blank\" href=https://colab.research.google.com/notebooks/data_table.ipynb>data table notebook</a>'\n",
              "            + ' to learn more about interactive tables.';\n",
              "          element.innerHTML = '';\n",
              "          dataTable['output_type'] = 'display_data';\n",
              "          await google.colab.output.renderOutput(dataTable, element);\n",
              "          const docLink = document.createElement('div');\n",
              "          docLink.innerHTML = docLinkHtml;\n",
              "          element.appendChild(docLink);\n",
              "        }\n",
              "      </script>\n",
              "    </div>\n",
              "  </div>\n",
              "  "
            ]
          },
          "metadata": {},
          "execution_count": 9
        }
>>>>>>> dbc992110cd696325261ee01fb60178cb7672fa9
      ]
    },
    {
      "cell_type": "code",
<<<<<<< HEAD
      "execution_count": 11,
      "metadata": {
        "id": "wO8LLiRtpMIS"
      },
      "outputs": [],
      "source": [
        "X_train,X_test,Y_train,Y_test = train_test_split(X,Y,test_size=0.2,shuffle=True)\n"
      ]
    },
    {
      "cell_type": "code",
      "execution_count": 12,
      "metadata": {
        "id": "0ovpCpUzpb-K"
      },
      "outputs": [],
=======
      "source": [
        "X_train,X_test,Y_train,Y_test = train_test_split(X,Y,test_size=0.2,shuffle=True)\n"
      ],
      "metadata": {
        "id": "wO8LLiRtpMIS"
      },
      "execution_count": null,
      "outputs": []
    },
    {
      "cell_type": "code",
>>>>>>> dbc992110cd696325261ee01fb60178cb7672fa9
      "source": [
        "def models(X_train,Y_train):\n",
        "    \n",
        "    # Logistic Regression\n",
        "    \n",
        "    from sklearn.linear_model import LogisticRegression\n",
        "    log = LogisticRegression(random_state=0)\n",
        "    log.fit(X_train,Y_train)\n",
        "    \n",
        "    \n",
        "    # Decision Tree Classifier\n",
        "    \n",
        "    from sklearn.tree import DecisionTreeClassifier\n",
        "    tree = DecisionTreeClassifier(criterion = \"entropy\" , random_state=0)\n",
        "    tree.fit(X_train,Y_train)\n",
        "    \n",
        "    # Random Forest Classifier\n",
        "    \n",
        "    from sklearn.ensemble import RandomForestClassifier\n",
        "    forest = RandomForestClassifier(n_estimators = 10 , criterion = \"entropy\",random_state=0)\n",
        "    forest.fit(X_train,Y_train)\n",
        "    \n",
        "    # Print the models accuracy on the training data\n",
        "    \n",
        "    print('[0] Logistic Regression Training Accuracy : ',log.score(X_train,Y_train))\n",
        "    print('[1] Decision Tree Classifier Training Accuracy : ',tree.score(X_train,Y_train))\n",
        "    print('[2] Random Forest Classifier Training Accuracy : ',forest.score(X_train,Y_train))\n",
        "    \n",
        "    return log,tree,forest"
<<<<<<< HEAD
      ]
    },
    {
      "cell_type": "code",
      "execution_count": 13,
=======
      ],
      "metadata": {
        "id": "0ovpCpUzpb-K"
      },
      "execution_count": null,
      "outputs": []
    },
    {
      "cell_type": "code",
      "source": [
        "model = models(X_train,Y_train)\n"
      ],
>>>>>>> dbc992110cd696325261ee01fb60178cb7672fa9
      "metadata": {
        "colab": {
          "base_uri": "https://localhost:8080/"
        },
        "id": "yahIzxoNphzB",
        "outputId": "714eb965-be52-4964-e1ba-8ca0748d5488"
      },
<<<<<<< HEAD
      "outputs": [
        {
          "name": "stdout",
          "output_type": "stream",
=======
      "execution_count": null,
      "outputs": [
        {
          "output_type": "stream",
          "name": "stdout",
>>>>>>> dbc992110cd696325261ee01fb60178cb7672fa9
          "text": [
            "[0] Logistic Regression Training Accuracy :  0.9781659388646288\n",
            "[1] Decision Tree Classifier Training Accuracy :  1.0\n",
            "[2] Random Forest Classifier Training Accuracy :  1.0\n"
          ]
        }
<<<<<<< HEAD
      ],
      "source": [
        "model = models(X_train,Y_train)\n",
        "\n"
=======
>>>>>>> dbc992110cd696325261ee01fb60178cb7672fa9
      ]
    },
    {
      "cell_type": "markdown",
<<<<<<< HEAD
      "metadata": {
        "id": "0Hr5t1O4prHq"
      },
      "source": [
        "#Testing the model using confusion matrix"
      ]
    },
    {
      "cell_type": "code",
      "execution_count": 14,
      "metadata": {
        "colab": {
          "base_uri": "https://localhost:8080/"
        },
        "id": "u3EUQcqDpk0T",
        "outputId": "f705dfd9-a751-46c8-d164-51ff4f2ace16"
      },
      "outputs": [
        {
          "name": "stdout",
          "output_type": "stream",
          "text": [
            "Model  0\n",
            "[[29  1]\n",
            " [ 0 28]]\n",
            "Testing Accuracy =   0.9827586206896551\n",
            "\n",
            "Model  1\n",
            "[[30  0]\n",
            " [ 0 28]]\n",
            "Testing Accuracy =   1.0\n",
            "\n",
            "Model  2\n",
            "[[30  0]\n",
            " [ 0 28]]\n",
            "Testing Accuracy =   1.0\n",
            "\n"
          ]
        }
      ],
=======
      "source": [
        "#Testing the model using confusion matrix"
      ],
      "metadata": {
        "id": "0Hr5t1O4prHq"
      }
    },
    {
      "cell_type": "code",
>>>>>>> dbc992110cd696325261ee01fb60178cb7672fa9
      "source": [
        "from sklearn.metrics import confusion_matrix\n",
        "\n",
        "for i in range(len(model)):\n",
        "    print(\"Model \", i)\n",
        "    \n",
        "    cm = confusion_matrix(Y_test,model[i].predict(X_test))\n",
        "    # [[true_negative , false_postive] [false_negative,true_positive]]\n",
        "    TP = cm[1][1]\n",
        "    TN = cm[0][0]\n",
        "    FP = cm[0][1]\n",
        "    FN = cm[1][0]\n",
        "\n",
        "    print(cm)\n",
        "    print(\"Testing Accuracy =  \",(TP + TN)/(TP + TN + FN + FP))\n",
        "    print()"
<<<<<<< HEAD
      ]
    },
    {
      "cell_type": "markdown",
      "metadata": {
        "id": "rLUtKYQ7p3i2"
      },
      "source": [
        "#Testing the model using accuracy score method"
      ]
    },
    {
      "cell_type": "code",
      "execution_count": 15,
=======
      ],
>>>>>>> dbc992110cd696325261ee01fb60178cb7672fa9
      "metadata": {
        "colab": {
          "base_uri": "https://localhost:8080/"
        },
<<<<<<< HEAD
        "id": "tHPZENWKppPI",
        "outputId": "6a8b014f-4440-422e-a039-aeef7887353d"
      },
      "outputs": [
        {
          "name": "stdout",
          "output_type": "stream",
          "text": [
            "Model  0\n",
            "              precision    recall  f1-score   support\n",
            "\n",
            "           0       1.00      0.97      0.98        30\n",
            "           1       0.97      1.00      0.98        28\n",
            "\n",
            "    accuracy                           0.98        58\n",
            "   macro avg       0.98      0.98      0.98        58\n",
            "weighted avg       0.98      0.98      0.98        58\n",
            "\n",
            "0.9827586206896551\n",
            "\n",
            "Model  1\n",
            "              precision    recall  f1-score   support\n",
            "\n",
            "           0       1.00      1.00      1.00        30\n",
            "           1       1.00      1.00      1.00        28\n",
            "\n",
            "    accuracy                           1.00        58\n",
            "   macro avg       1.00      1.00      1.00        58\n",
            "weighted avg       1.00      1.00      1.00        58\n",
            "\n",
            "1.0\n",
            "\n",
            "Model  2\n",
            "              precision    recall  f1-score   support\n",
            "\n",
            "           0       1.00      1.00      1.00        30\n",
            "           1       1.00      1.00      1.00        28\n",
            "\n",
            "    accuracy                           1.00        58\n",
            "   macro avg       1.00      1.00      1.00        58\n",
            "weighted avg       1.00      1.00      1.00        58\n",
            "\n",
            "1.0\n",
            "\n"
          ]
        }
      ],
=======
        "id": "u3EUQcqDpk0T",
        "outputId": "f705dfd9-a751-46c8-d164-51ff4f2ace16"
      },
      "execution_count": null,
      "outputs": [
        {
          "output_type": "stream",
          "name": "stdout",
          "text": [
            "Model  0\n",
            "[[25  1]\n",
            " [ 0 32]]\n",
            "Testing Accuracy =   0.9827586206896551\n",
            "\n",
            "Model  1\n",
            "[[25  1]\n",
            " [ 0 32]]\n",
            "Testing Accuracy =   0.9827586206896551\n",
            "\n",
            "Model  2\n",
            "[[26  0]\n",
            " [ 0 32]]\n",
            "Testing Accuracy =   1.0\n",
            "\n"
          ]
        }
      ]
    },
    {
      "cell_type": "markdown",
      "source": [
        "#Testing the model using accuracy score method"
      ],
      "metadata": {
        "id": "rLUtKYQ7p3i2"
      }
    },
    {
      "cell_type": "code",
>>>>>>> dbc992110cd696325261ee01fb60178cb7672fa9
      "source": [
        "from sklearn.metrics import classification_report\n",
        "from sklearn.metrics import accuracy_score\n",
        "\n",
        "\n",
        "for i in range(len(model)):\n",
        "    print(\"Model \", i)\n",
        "    print(classification_report(Y_test,model[i].predict(X_test)))\n",
        "    print(accuracy_score(Y_test,model[i].predict(X_test)))\n",
        "    print()"
<<<<<<< HEAD
=======
      ],
      "metadata": {
        "colab": {
          "base_uri": "https://localhost:8080/"
        },
        "id": "tHPZENWKppPI",
        "outputId": "6a8b014f-4440-422e-a039-aeef7887353d"
      },
      "execution_count": null,
      "outputs": [
        {
          "output_type": "stream",
          "name": "stdout",
          "text": [
            "Model  0\n",
            "              precision    recall  f1-score   support\n",
            "\n",
            "           0       1.00      0.96      0.98        26\n",
            "           1       0.97      1.00      0.98        32\n",
            "\n",
            "    accuracy                           0.98        58\n",
            "   macro avg       0.98      0.98      0.98        58\n",
            "weighted avg       0.98      0.98      0.98        58\n",
            "\n",
            "0.9827586206896551\n",
            "\n",
            "Model  1\n",
            "              precision    recall  f1-score   support\n",
            "\n",
            "           0       1.00      0.96      0.98        26\n",
            "           1       0.97      1.00      0.98        32\n",
            "\n",
            "    accuracy                           0.98        58\n",
            "   macro avg       0.98      0.98      0.98        58\n",
            "weighted avg       0.98      0.98      0.98        58\n",
            "\n",
            "0.9827586206896551\n",
            "\n",
            "Model  2\n",
            "              precision    recall  f1-score   support\n",
            "\n",
            "           0       1.00      1.00      1.00        26\n",
            "           1       1.00      1.00      1.00        32\n",
            "\n",
            "    accuracy                           1.00        58\n",
            "   macro avg       1.00      1.00      1.00        58\n",
            "weighted avg       1.00      1.00      1.00        58\n",
            "\n",
            "1.0\n",
            "\n"
          ]
        }
>>>>>>> dbc992110cd696325261ee01fb60178cb7672fa9
      ]
    },
    {
      "cell_type": "code",
<<<<<<< HEAD
      "execution_count": 16,
=======
      "source": [
        "pred = model[1].predict(X_test)\n",
        "print(pred)\n",
        "print()\n",
        "print(Y_test)"
      ],
>>>>>>> dbc992110cd696325261ee01fb60178cb7672fa9
      "metadata": {
        "colab": {
          "base_uri": "https://localhost:8080/"
        },
        "id": "bm1W3gJ-p024",
        "outputId": "504a7b7f-0f9f-467b-b7bc-89e00b73bfe6"
      },
<<<<<<< HEAD
      "outputs": [
        {
          "name": "stdout",
          "output_type": "stream",
          "text": [
            "[1 1 0 0 1 0 1 1 1 1 1 0 1 1 0 1 0 1 1 0 0 0 1 1 0 0 0 1 1 0 0 0 0 0 1 1 0\n",
            " 1 1 0 1 0 0 1 0 0 0 1 1 0 1 0 1 0 0 0 0 1]\n",
            "\n",
            "376    1\n",
            "331    1\n",
            "36     0\n",
            "108    0\n",
            "251    1\n",
            "5      0\n",
            "264    1\n",
            "347    1\n",
            "291    1\n",
            "342    1\n",
            "267    1\n",
            "204    0\n",
            "253    1\n",
            "263    1\n",
            "49     0\n",
            "308    1\n",
            "234    0\n",
            "356    1\n",
            "332    1\n",
            "149    0\n",
            "133    0\n",
            "6      0\n",
            "399    1\n",
            "257    1\n",
            "137    0\n",
            "48     0\n",
            "1      0\n",
            "327    1\n",
            "303    1\n",
            "90     0\n",
            "93     0\n",
            "4      0\n",
            "73     0\n",
            "159    0\n",
            "343    1\n",
            "357    1\n",
            "9      0\n",
            "255    1\n",
            "271    1\n",
            "44     0\n",
            "360    1\n",
            "206    0\n",
            "69     0\n",
            "314    1\n",
            "214    0\n",
            "40     0\n",
            "223    0\n",
            "321    1\n",
            "375    1\n",
            "35     0\n",
            "348    1\n",
            "189    0\n",
            "333    1\n",
            "47     0\n",
            "79     0\n",
            "10     0\n",
            "53     0\n",
            "266    1\n",
            "Name: classification, dtype: int32\n"
          ]
        }
      ],
      "source": [
        "pred = model[1].predict(X_test)\n",
        "print(pred)\n",
        "print()\n",
        "print(Y_test)"
=======
      "execution_count": null,
      "outputs": [
        {
          "output_type": "stream",
          "name": "stdout",
          "text": [
            "[0 1 1 0 1 0 0 1 1 0 0 0 1 1 1 0 0 1 1 1 1 0 1 0 1 1 1 0 1 1 0 0 0 1 1 1 0\n",
            " 0 1 0 1 1 0 0 1 1 1 0 0 1 0 1 1 0 1 1 0 1]\n",
            "\n",
            "9      0\n",
            "369    1\n",
            "344    1\n",
            "242    0\n",
            "355    1\n",
            "157    0\n",
            "177    0\n",
            "376    1\n",
            "341    1\n",
            "51     0\n",
            "234    0\n",
            "105    0\n",
            "395    1\n",
            "337    1\n",
            "310    1\n",
            "54     0\n",
            "33     0\n",
            "394    1\n",
            "301    1\n",
            "302    1\n",
            "266    1\n",
            "164    0\n",
            "277    1\n",
            "249    0\n",
            "282    1\n",
            "253    1\n",
            "374    1\n",
            "196    0\n",
            "271    1\n",
            "303    1\n",
            "219    0\n",
            "210    0\n",
            "152    0\n",
            "326    1\n",
            "378    1\n",
            "361    1\n",
            "70     0\n",
            "11     0\n",
            "262    1\n",
            "123    0\n",
            "281    1\n",
            "320    1\n",
            "189    0\n",
            "227    0\n",
            "388    1\n",
            "393    1\n",
            "0      0\n",
            "154    0\n",
            "147    0\n",
            "398    1\n",
            "7      0\n",
            "299    1\n",
            "308    1\n",
            "48     0\n",
            "259    1\n",
            "335    1\n",
            "149    0\n",
            "314    1\n",
            "Name: classification, dtype: int64\n"
          ]
        }
>>>>>>> dbc992110cd696325261ee01fb60178cb7672fa9
      ]
    },
    {
      "cell_type": "code",
<<<<<<< HEAD
      "execution_count": 18,
=======
      "source": [
        "def  SaveModel():\n",
        "    import pickle\n",
        "    with open(\"CKD_Model\",\"wb\") as f:\n",
        "        pickle.dump(model[1],f)\n",
        "SaveModel()\n",
        "import pickle\n",
        "with open(\"CKD_Model\",\"rb\") as f:\n",
        "    randomForest = pickle.load(f)\n",
        "\n",
        "pred = randomForest.predict(X_test)\n",
        "print(pred)\n",
        "print()\n",
        "print(Y_test)"
      ],
>>>>>>> dbc992110cd696325261ee01fb60178cb7672fa9
      "metadata": {
        "colab": {
          "base_uri": "https://localhost:8080/"
        },
        "id": "vQnqeX06p-tD",
        "outputId": "7c86e38b-11f0-4b1d-9f77-0a3fed655254"
      },
<<<<<<< HEAD
      "outputs": [],
      "source": [
        "import pickle\n",
        "pickle.dump(model,open('model.pkl',\"wb\"))"
      ]
    },
    {
      "cell_type": "code",
      "execution_count": null,
      "metadata": {},
      "outputs": [],
      "source": []
    }
  ],
  "metadata": {
    "colab": {
      "provenance": []
    },
    "kernelspec": {
      "display_name": "Python 3.10.6 64-bit",
      "language": "python",
      "name": "python3"
    },
    "language_info": {
      "codemirror_mode": {
        "name": "ipython",
        "version": 3
      },
      "file_extension": ".py",
      "mimetype": "text/x-python",
      "name": "python",
      "nbconvert_exporter": "python",
      "pygments_lexer": "ipython3",
      "version": "3.10.6"
    },
    "vscode": {
      "interpreter": {
        "hash": "369f2c481f4da34e4445cda3fffd2e751bd1c4d706f27375911949ba6bb62e1c"
      }
    }
  },
  "nbformat": 4,
  "nbformat_minor": 0
}
=======
      "execution_count": null,
      "outputs": [
        {
          "output_type": "stream",
          "name": "stdout",
          "text": [
            "[0 1 1 0 1 0 0 1 1 0 0 0 1 1 1 0 0 1 1 1 1 0 1 0 1 1 1 0 1 1 0 0 0 1 1 1 0\n",
            " 0 1 0 1 1 0 0 1 1 1 0 0 1 0 1 1 0 1 1 0 1]\n",
            "\n",
            "9      0\n",
            "369    1\n",
            "344    1\n",
            "242    0\n",
            "355    1\n",
            "157    0\n",
            "177    0\n",
            "376    1\n",
            "341    1\n",
            "51     0\n",
            "234    0\n",
            "105    0\n",
            "395    1\n",
            "337    1\n",
            "310    1\n",
            "54     0\n",
            "33     0\n",
            "394    1\n",
            "301    1\n",
            "302    1\n",
            "266    1\n",
            "164    0\n",
            "277    1\n",
            "249    0\n",
            "282    1\n",
            "253    1\n",
            "374    1\n",
            "196    0\n",
            "271    1\n",
            "303    1\n",
            "219    0\n",
            "210    0\n",
            "152    0\n",
            "326    1\n",
            "378    1\n",
            "361    1\n",
            "70     0\n",
            "11     0\n",
            "262    1\n",
            "123    0\n",
            "281    1\n",
            "320    1\n",
            "189    0\n",
            "227    0\n",
            "388    1\n",
            "393    1\n",
            "0      0\n",
            "154    0\n",
            "147    0\n",
            "398    1\n",
            "7      0\n",
            "299    1\n",
            "308    1\n",
            "48     0\n",
            "259    1\n",
            "335    1\n",
            "149    0\n",
            "314    1\n",
            "Name: classification, dtype: int64\n"
          ]
        }
      ]
    }
  ]
}
>>>>>>> dbc992110cd696325261ee01fb60178cb7672fa9
